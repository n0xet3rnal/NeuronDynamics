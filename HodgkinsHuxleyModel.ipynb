{
 "cells": [
  {
   "cell_type": "code",
   "execution_count": null,
   "metadata": {
    "colab": {
     "base_uri": "https://localhost:8080/"
    },
    "executionInfo": {
     "elapsed": 5184,
     "status": "ok",
     "timestamp": 1724303123949,
     "user": {
      "displayName": "Palika Charitha bt22d109",
      "userId": "07084215615990559282"
     },
     "user_tz": -330
    },
    "id": "fzFUHEudbceX",
    "outputId": "db3a9d64-6251-4f57-a6a0-388fb37ee10c"
   },
   "outputs": [],
   "source": [
    "import numpy as np\n",
    "from matplotlib import pyplot as plt\n",
    "import tqdm\n",
    "import seaborn as sns\n",
    "sns.set_style(\"whitegrid\")"
   ]
  },
  {
   "cell_type": "markdown",
   "metadata": {
    "id": "nuuKqnV7eVxa"
   },
   "source": [
    "## Hodgkins - Huxley Model\n",
    "The model is defined as an object class."
   ]
  },
  {
   "cell_type": "code",
   "execution_count": null,
   "metadata": {
    "executionInfo": {
     "elapsed": 413,
     "status": "ok",
     "timestamp": 1724304291886,
     "user": {
      "displayName": "Palika Charitha bt22d109",
      "userId": "07084215615990559282"
     },
     "user_tz": -330
    },
    "id": "Dt0Ayc8zbceZ"
   },
   "outputs": [],
   "source": [
    "class HHModel():\n",
    "    def __init__(self, dt = 0.01, iter = 10000):\n",
    "        self.gK_max = 0.36 # max conductance of K channel\n",
    "        self.gNa_max = 1.20 # max condutance of Na channel\n",
    "        self.gl = 0.003 # Leaky channel conductance\n",
    "        self.E_Na = 50 # Nernst potential of Na channel\n",
    "        self.E_K = -77 # Nernst potential of K channel\n",
    "        self.E_l = -54.387 # Nernst potential of leaky channel\n",
    "        self.C = 0.01 # Membrane conductance\n",
    "        self.v_monitor = [] # Monitor to append all the voltage values\n",
    "        self.gNa_monitor = [] # Monitor to append all the Na conductance values\n",
    "        self.gK_monitor = [] # Monitor to append all the K conductance values\n",
    "        self.m_monitor = [] # Monitor to append all the values of gating variable m\n",
    "        self.n_monitor = [] # Monitor to append all the values of gating variable n\n",
    "        self.h_monitor = [] # Monitor to append all the values of gating variable h\n",
    "        self.dt = dt\n",
    "        self.iter = iter\n",
    "\n",
    "    def reset_monitors(self):\n",
    "    \n",
    "        self.v_monitor = []\n",
    "        self.gNa_monitor = []\n",
    "        self.gK_monitor = []\n",
    "        self.m_monitor = []\n",
    "        self.n_monitor = []\n",
    "        self.h_monitor = []\n",
    "\n",
    "    def model(self, I_app: float):\n",
    "        '''\n",
    "        Computes the voltage using Hodgkin Huxeley model\n",
    "        -------------------------------------------------\n",
    "        Args:\n",
    "            I_app: External current (micro amperes)\n",
    "            dt: Step length for Euler method. Default = 0.01 ms\n",
    "            iter: Number of iterations. Default = 10000\n",
    "        Returns:\n",
    "            v_monitor: voltage\n",
    "            m: Gating variable\n",
    "            n: Gating variable\n",
    "            h: Gating variable\n",
    "            gNa: Conductance of Na channel\n",
    "            gK: Conductance of K channel\n",
    "        --------------------------------------------------\n",
    "        '''\n",
    "        self.reset_monitors()\n",
    "        v = -64.9964\n",
    "        m = 0.0530\n",
    "        h = 0.5960\n",
    "        n = 0.3177\n",
    "        dt = self.dt\n",
    "        iter = self.iter\n",
    "        # Dynamic relationships specified\n",
    "\n",
    "        for i in range(iter):\n",
    "            gNa = self.gNa_max * (m**3) * h\n",
    "            gK = self.gK_max * n**4\n",
    "            \n",
    "            dv = (-gNa * (v - self.E_Na) - gK * (v - self.E_K) - self.gl *(v- self.E_l) + I_app)/self.C\n",
    "            v = v + dt*dv\n",
    "        \n",
    "            alpha_m = 0.1 * (v + 40) / (1- np.exp(-(v + 40)/10))\n",
    "            beta_m = 4 * np.exp(-0.0556 * (v + 65))\n",
    "            \n",
    "            alpha_h = 0.07 * (np.exp(-0.05 *(v + 65)))\n",
    "            beta_h = 1/(1 + np.exp(-0.1 * (v + 35)))\n",
    "            \n",
    "            alpha_n = 0.01 * (v + 55)/(1 - np.exp(-(v + 55)/10))\n",
    "            beta_n = 0.125 * np.exp(-(v + 65)/80)\n",
    "        \n",
    "            dm = alpha_m * (1 - m) - beta_m * m\n",
    "            dn = alpha_n * (1 - n) - beta_n * n\n",
    "            dh = alpha_h * (1 - h) - beta_h * h\n",
    "        \n",
    "            m = m + dt * dm\n",
    "            n = n + dt * dn\n",
    "            h = h + dt * dh\n",
    "        \n",
    "            self.v_monitor.append(v)\n",
    "            self.m_monitor.append(m)\n",
    "            self.n_monitor.append(n)\n",
    "            self.h_monitor.append(h)\n",
    "            self.gNa_monitor.append(gNa)\n",
    "            self.gK_monitor.append(gK)\n",
    "        \n",
    "        return self.v_monitor, self.m_monitor, self.n_monitor, self.h_monitor, self.gNa_monitor, self.gK_monitor\n"
   ]
  },
  {
   "cell_type": "markdown",
   "metadata": {
    "id": "H4ieef04bceg"
   },
   "source": [
    "## Simulation Interface\n",
    "Two simulations are specified. One simulates the spike frequency profile of the model under the given conditions. This is used to define threshold currents for different regimes.\n",
    "This is used to visualize the dynamic behaviour of the Hodgkins - Huxley Neuron in different regimes, which is the second simulation."
   ]
  },
  {
   "cell_type": "code",
   "execution_count": null,
   "metadata": {},
   "outputs": [],
   "source": [
    "#Calculating Threshold Currents\n",
    "from tqdm import tqdm\n",
    "\n",
    "# Peak Detection Method\n",
    "def peaks(v_vals):\n",
    "\tthreshold = 10\n",
    "\tnpeaks = 0\n",
    "\tfor i in range(len(v_vals)-1):\n",
    "\t\tif (v_vals[i] >= threshold) and (v_vals[i] > v_vals[i+1]) and (v_vals[i] > v_vals[i-1]):\n",
    "\t\t\tnpeaks += 1\n",
    "\treturn\tnpeaks\n",
    "\n",
    "\n",
    "\n",
    "current_range = np.arange(0, 0.8, 0.001)\n",
    "\n",
    "# Conditions for Frequency Profile Simulation\n",
    "total_simulation_time = 500\n",
    "dt = 0.01\n",
    "iter = int(total_simulation_time/dt)\n",
    "HH = HHModel(dt, iter) # dt is in ms\n",
    "HH_new = HHModel(dt,iter)\n",
    "\n",
    "peak_monitor= []\n",
    "for current in tqdm(current_range):\n",
    "    v_vals, m_vals, n_vals, h_vals, gNa_vals, gK_vals = HH_new.model(current)\n",
    "    peak_monitor.append(peaks(v_vals))\n"
   ]
  },
  {
   "cell_type": "code",
   "execution_count": null,
   "metadata": {},
   "outputs": [],
   "source": [
    "# Method to detect current thresholds\n",
    "def current_thresholds(peak_monitor):\n",
    "    return_list = []\n",
    "    for i in range(len(peak_monitor)-1):        \n",
    "    \n",
    "        if peak_monitor[i+1]-peak_monitor[i] > 10:\n",
    "            return_list.append(i)\n",
    "        elif peak_monitor[i] > 0 and peak_monitor[i-1] == 0:\n",
    "            return_list.append(i)\n",
    "        elif peak_monitor[i+1]-peak_monitor[i] < -40:\n",
    "            return_list.append(i)\n",
    "    return return_list\n",
    "\n",
    "current_limits = current_thresholds(peak_monitor)\n",
    "\n",
    "# Spike Frequency profile plot \n",
    "\n",
    "plt.figure() \n",
    "plt.plot(current_range, peak_monitor, label=\"Spike Frequency\")\n",
    "plt.axvline(x=current_range[current_limits[0]], color=\"r\", label=\"I1\")\n",
    "plt.axvline(x=current_range[current_limits[1]], color=\"g\", label=\"I2\")\n",
    "plt.axvline(x=current_range[current_limits[2]], color=\"orange\", label=\"I3\")\n",
    "plt.title(\"Frequency of Spiking vs Input Current\")\n",
    "plt.xlabel(f\"Input Current ($\\mu\\text{A}/\\text{mm}^2$)\")\n",
    "\n",
    "\n",
    "plt.ylabel(\"Frequency of Spiking\")\n",
    "plt.legend()\n",
    "plt.savefig(\"Frequency_sweep.jpeg\", dpi=900, bbox_inches=\"tight\")\n",
    "plt.show()\n",
    "\n",
    "print(\"\\nThe cutoff currents are as follows:\")\n",
    "print(\"I1 =\", current_range[current_limits[0]], \"microA/mm^2\")\n",
    "print(\"I2 =\", current_range[current_limits[1]], \"microA/mm^2\")\n",
    "print(\"I3 =\", current_range[current_limits[2]], \"microA/mm^2\")\n"
   ]
  },
  {
   "cell_type": "code",
   "execution_count": null,
   "metadata": {},
   "outputs": [],
   "source": [
    "# Conditions for simulating dynamic behaviour\n",
    "total_simulation_time = 100\n",
    "dt = 0.01\n",
    "iter = int(total_simulation_time/dt)\n",
    "HH = HHModel(dt, iter) # dt is in ms"
   ]
  },
  {
   "cell_type": "code",
   "execution_count": null,
   "metadata": {
    "id": "tZnfJc2k0Try"
   },
   "outputs": [],
   "source": [
    "# Method to plot graphs of voltage, gating variables, and conductances against time.\n",
    "def plot_relevant_graphs(model, I_inj):\n",
    "    t = np.arange(0, model.iter) * model.dt\n",
    "    \n",
    "    v_vals, m_vals, n_vals, h_vals, gNa_vals, gK_vals = HH.model(I_inj)\n",
    "    plt.figure()\n",
    "    plt.plot(t, v_vals)\n",
    "    string = f\"Voltage variation vs time: I = {I_inj} $\\mu\\\\text{{A}}/\\\\text{{mm}}^2$\"\n",
    "    plt.title(string)\n",
    "    plt.xlabel(\"Time (ms)\")\n",
    "    plt.ylabel(\"Voltage (mV)\")\n",
    "    plt.savefig(f\"{I_inj}_A.jpeg\", dpi=900, bbox_inches='tight')\n",
    "    \n",
    "    plt.figure()\n",
    "    plt.plot(t, m_vals)\n",
    "    plt.plot(t, h_vals)\n",
    "    plt.plot(t, n_vals)\n",
    "    plt.legend(['m','h','n'])\n",
    "    string = f\"Gating Variable Probablilites vs time: I = {I_inj} $\\mu\\\\text{{A}}/\\\\text{{mm}}^2$\"\n",
    "    plt.title(string)\n",
    "    plt.xlabel(\"Time (ms)\")\n",
    "    plt.ylabel(\"Gating variable probabilities\")\n",
    "    plt.savefig(f\"{I_inj}_B.jpeg\", dpi=900, bbox_inches='tight')\n",
    "    \n",
    "    plt.figure()\n",
    "    plt.plot(t, gNa_vals)\n",
    "    plt.plot(t, gK_vals)\n",
    "    plt.legend(['g_Na','g_K'])\n",
    "    string = f\"Conductance variation vs time: I = {I_inj} $\\mu\\\\text{{A}}/\\\\text{{mm}}^2$\"\n",
    "    plt.title(string)\n",
    "    plt.xlabel(\"Time (ms)\")\n",
    "    plt.ylabel(\"Conductance\")\n",
    "    plt.savefig(f\"{I_inj}_C.jpeg\", dpi=900, bbox_inches='tight')\n",
    "\n",
    "    plt.show()"
   ]
  },
  {
   "cell_type": "code",
   "execution_count": null,
   "metadata": {},
   "outputs": [],
   "source": [
    "for current in [0.01, 0.023, 0.0617, 0.467, 0.6, 2.0 ]:\n",
    "    plot_relevant_graphs(HH, current)"
   ]
  },
  {
   "cell_type": "code",
   "execution_count": null,
   "metadata": {},
   "outputs": [],
   "source": []
  }
 ],
 "metadata": {
  "colab": {
   "provenance": []
  },
  "kernelspec": {
   "display_name": "Python 3 (ipykernel)",
   "language": "python",
   "name": "python3"
  },
  "language_info": {
   "codemirror_mode": {
    "name": "ipython",
    "version": 3
   },
   "file_extension": ".py",
   "mimetype": "text/x-python",
   "name": "python",
   "nbconvert_exporter": "python",
   "pygments_lexer": "ipython3",
   "version": "3.10.11"
  }
 },
 "nbformat": 4,
 "nbformat_minor": 4
}
